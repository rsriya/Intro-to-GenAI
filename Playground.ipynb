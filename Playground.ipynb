{
  "nbformat": 4,
  "nbformat_minor": 0,
  "metadata": {
    "colab": {
      "provenance": [],
      "authorship_tag": "ABX9TyMtXPbKqcSQM4eBWxvqcjRi",
      "include_colab_link": true
    },
    "kernelspec": {
      "name": "python3",
      "display_name": "Python 3"
    },
    "language_info": {
      "name": "python"
    }
  },
  "cells": [
    {
      "cell_type": "markdown",
      "metadata": {
        "id": "view-in-github",
        "colab_type": "text"
      },
      "source": [
        "<a href=\"https://colab.research.google.com/github/rsriya/Intro-to-GenAI/blob/main/Playground.ipynb\" target=\"_parent\"><img src=\"https://colab.research.google.com/assets/colab-badge.svg\" alt=\"Open In Colab\"/></a>"
      ]
    },
    {
      "cell_type": "markdown",
      "source": [
        "In this notebook, I aim to read webpages and use GenAI tools to do meaningful operations.\n",
        "\n",
        "1.   Read Webpage\n",
        "2.   \n",
        "\n"
      ],
      "metadata": {
        "id": "3BJs7Pr8HT16"
      }
    },
    {
      "cell_type": "markdown",
      "source": [
        "# Section 1: Read Webpage"
      ],
      "metadata": {
        "id": "BpmjN9jVH9rV"
      }
    },
    {
      "cell_type": "markdown",
      "source": [
        "I am currently looking for jobs. So, I will start with something which reads webpages to reduce my work.\n",
        "\n",
        "I will use `requests` to connect to websites and download their content. \\\\\n",
        "You can learn more about it at https://docs.python-requests.org/en/latest/index.html.\n",
        "\n"
      ],
      "metadata": {
        "id": "w1YFRFz9uN1c"
      }
    },
    {
      "cell_type": "code",
      "source": [
        "import requests"
      ],
      "metadata": {
        "id": "Q6-zLS2hxwHn"
      },
      "execution_count": 1,
      "outputs": []
    },
    {
      "cell_type": "markdown",
      "source": [
        "I know you haven't read the url I shared. So, lets start with them."
      ],
      "metadata": {
        "id": "wG8CzW8fx7ol"
      }
    },
    {
      "cell_type": "code",
      "source": [
        "url = 'https://docs.python-requests.org/en/latest/index.html'\n",
        "response = requests.get(url)\n",
        "print(response.text)"
      ],
      "metadata": {
        "id": "z_hgeyXFyK39",
        "outputId": "6b27d88b-308e-4920-9f97-ad510efca453",
        "colab": {
          "base_uri": "https://localhost:8080/"
        }
      },
      "execution_count": 2,
      "outputs": [
        {
          "output_type": "stream",
          "name": "stdout",
          "text": [
            "<!DOCTYPE html>\n",
            "\n",
            "<html lang=\"en\" data-content_root=\"./\">\n",
            "  <head>\n",
            "    <meta charset=\"utf-8\" />\n",
            "    <meta name=\"viewport\" content=\"width=device-width, initial-scale=1.0\" /><meta name=\"viewport\" content=\"width=device-width, initial-scale=1\" />\n",
            "\n",
            "    <title>Requests: HTTP for Humans™ &#8212; Requests 2.32.3 documentation</title>\n",
            "    <link rel=\"stylesheet\" type=\"text/css\" href=\"_static/pygments.css?v=6625fa76\" />\n",
            "    <link rel=\"stylesheet\" type=\"text/css\" href=\"_static/alabaster.css?v=1fe5e9f7\" />\n",
            "    <script src=\"_static/documentation_options.js?v=5fb65c81\"></script>\n",
            "    <script src=\"_static/doctools.js?v=888ff710\"></script>\n",
            "    <script src=\"_static/sphinx_highlight.js?v=dc90522c\"></script>\n",
            "    <link rel=\"index\" title=\"Index\" href=\"genindex/\" />\n",
            "    <link rel=\"search\" title=\"Search\" href=\"search/\" />\n",
            "    <link rel=\"next\" title=\"Installation of Requests\" href=\"user/install/\" />\n",
            "   \n",
            "  <link rel=\"stylesheet\" href=\"_static/custom.css\" type=\"text/css\" />\n",
            "  \n",
            "\n",
            "  \n",
            "  \n",
            "\n",
            "  <script async type=\"text/javascript\" src=\"/_/static/javascript/readthedocs-addons.js\"></script><meta name=\"readthedocs-project-slug\" content=\"requests\" /><meta name=\"readthedocs-version-slug\" content=\"latest\" /><meta name=\"readthedocs-resolver-filename\" content=\"/index.html\" /><meta name=\"readthedocs-http-status\" content=\"200\" /></head><body>\n",
            "  \n",
            "\n",
            "    <div class=\"document\">\n",
            "      <div class=\"documentwrapper\">\n",
            "        <div class=\"bodywrapper\">\n",
            "          \n",
            "\n",
            "          <div class=\"body\" role=\"main\">\n",
            "            \n",
            "  <section id=\"requests-http-for-humans\">\n",
            "<h1>Requests: HTTP for Humans™<a class=\"headerlink\" href=\"#requests-http-for-humans\" title=\"Link to this heading\">¶</a></h1>\n",
            "<p>Release v2.32.3. (<a class=\"reference internal\" href=\"user/install/#install\"><span class=\"std std-ref\">Installation</span></a>)</p>\n",
            "<a class=\"reference external image-reference\" href=\"https://pepy.tech/project/requests\"><img alt=\"Requests Downloads Per Month Badge\" src=\"https://static.pepy.tech/badge/requests/month\" /></a>\n",
            "<a class=\"reference external image-reference\" href=\"https://pypi.org/project/requests/\"><img alt=\"License Badge\" src=\"https://img.shields.io/pypi/l/requests.svg\" /></a>\n",
            "<a class=\"reference external image-reference\" href=\"https://pypi.org/project/requests/\"><img alt=\"Wheel Support Badge\" src=\"https://img.shields.io/pypi/wheel/requests.svg\" /></a>\n",
            "<a class=\"reference external image-reference\" href=\"https://pypi.org/project/requests/\"><img alt=\"Python Version Support Badge\" src=\"https://img.shields.io/pypi/pyversions/requests.svg\" /></a>\n",
            "<p><strong>Requests</strong> is an elegant and simple HTTP library for Python, built for human beings.</p>\n",
            "<hr class=\"docutils\" />\n",
            "<p><strong>Behold, the power of Requests</strong>:</p>\n",
            "<div class=\"highlight-default notranslate\"><div class=\"highlight\"><pre><span></span><span class=\"gp\">&gt;&gt;&gt; </span><span class=\"n\">r</span> <span class=\"o\">=</span> <span class=\"n\">requests</span><span class=\"o\">.</span><span class=\"n\">get</span><span class=\"p\">(</span><span class=\"s1\">&#39;https://api.github.com/user&#39;</span><span class=\"p\">,</span> <span class=\"n\">auth</span><span class=\"o\">=</span><span class=\"p\">(</span><span class=\"s1\">&#39;user&#39;</span><span class=\"p\">,</span> <span class=\"s1\">&#39;pass&#39;</span><span class=\"p\">))</span>\n",
            "<span class=\"gp\">&gt;&gt;&gt; </span><span class=\"n\">r</span><span class=\"o\">.</span><span class=\"n\">status_code</span>\n",
            "<span class=\"go\">200</span>\n",
            "<span class=\"gp\">&gt;&gt;&gt; </span><span class=\"n\">r</span><span class=\"o\">.</span><span class=\"n\">headers</span><span class=\"p\">[</span><span class=\"s1\">&#39;content-type&#39;</span><span class=\"p\">]</span>\n",
            "<span class=\"go\">&#39;application/json; charset=utf8&#39;</span>\n",
            "<span class=\"gp\">&gt;&gt;&gt; </span><span class=\"n\">r</span><span class=\"o\">.</span><span class=\"n\">encoding</span>\n",
            "<span class=\"go\">&#39;utf-8&#39;</span>\n",
            "<span class=\"gp\">&gt;&gt;&gt; </span><span class=\"n\">r</span><span class=\"o\">.</span><span class=\"n\">text</span>\n",
            "<span class=\"go\">&#39;{&quot;type&quot;:&quot;User&quot;...&#39;</span>\n",
            "<span class=\"gp\">&gt;&gt;&gt; </span><span class=\"n\">r</span><span class=\"o\">.</span><span class=\"n\">json</span><span class=\"p\">()</span>\n",
            "<span class=\"go\">{&#39;private_gists&#39;: 419, &#39;total_private_repos&#39;: 77, ...}</span>\n",
            "</pre></div>\n",
            "</div>\n",
            "<p>See <a class=\"reference external\" href=\"https://gist.github.com/973705\">similar code, sans Requests</a>.</p>\n",
            "<p><strong>Requests</strong> allows you to send HTTP/1.1 requests extremely easily.\n",
            "There’s no need to manually add query strings to your\n",
            "URLs, or to form-encode your POST data. Keep-alive and HTTP connection pooling\n",
            "are 100% automatic, thanks to <a class=\"reference external\" href=\"https://github.com/urllib3/urllib3\">urllib3</a>.</p>\n",
            "<section id=\"beloved-features\">\n",
            "<h2>Beloved Features<a class=\"headerlink\" href=\"#beloved-features\" title=\"Link to this heading\">¶</a></h2>\n",
            "<p>Requests is ready for today’s web.</p>\n",
            "<ul class=\"simple\">\n",
            "<li><p>Keep-Alive &amp; Connection Pooling</p></li>\n",
            "<li><p>International Domains and URLs</p></li>\n",
            "<li><p>Sessions with Cookie Persistence</p></li>\n",
            "<li><p>Browser-style SSL Verification</p></li>\n",
            "<li><p>Automatic Content Decoding</p></li>\n",
            "<li><p>Basic/Digest Authentication</p></li>\n",
            "<li><p>Elegant Key/Value Cookies</p></li>\n",
            "<li><p>Automatic Decompression</p></li>\n",
            "<li><p>Unicode Response Bodies</p></li>\n",
            "<li><p>HTTP(S) Proxy Support</p></li>\n",
            "<li><p>Multipart File Uploads</p></li>\n",
            "<li><p>Streaming Downloads</p></li>\n",
            "<li><p>Connection Timeouts</p></li>\n",
            "<li><p>Chunked Requests</p></li>\n",
            "<li><p><code class=\"docutils literal notranslate\"><span class=\"pre\">.netrc</span></code> Support</p></li>\n",
            "</ul>\n",
            "<p>Requests officially supports Python 3.8+, and runs great on PyPy.</p>\n",
            "</section>\n",
            "<section id=\"the-user-guide\">\n",
            "<h2>The User Guide<a class=\"headerlink\" href=\"#the-user-guide\" title=\"Link to this heading\">¶</a></h2>\n",
            "<p>This part of the documentation, which is mostly prose, begins with some\n",
            "background information about Requests, then focuses on step-by-step\n",
            "instructions for getting the most out of Requests.</p>\n",
            "<div class=\"toctree-wrapper compound\">\n",
            "<ul>\n",
            "<li class=\"toctree-l1\"><a class=\"reference internal\" href=\"user/install/\">Installation of Requests</a><ul>\n",
            "<li class=\"toctree-l2\"><a class=\"reference internal\" href=\"user/install/#python-m-pip-install-requests\">$ python -m pip install requests</a></li>\n",
            "<li class=\"toctree-l2\"><a class=\"reference internal\" href=\"user/install/#get-the-source-code\">Get the Source Code</a></li>\n",
            "</ul>\n",
            "</li>\n",
            "<li class=\"toctree-l1\"><a class=\"reference internal\" href=\"user/quickstart/\">Quickstart</a><ul>\n",
            "<li class=\"toctree-l2\"><a class=\"reference internal\" href=\"user/quickstart/#make-a-request\">Make a Request</a></li>\n",
            "<li class=\"toctree-l2\"><a class=\"reference internal\" href=\"user/quickstart/#passing-parameters-in-urls\">Passing Parameters In URLs</a></li>\n",
            "<li class=\"toctree-l2\"><a class=\"reference internal\" href=\"user/quickstart/#response-content\">Response Content</a></li>\n",
            "<li class=\"toctree-l2\"><a class=\"reference internal\" href=\"user/quickstart/#binary-response-content\">Binary Response Content</a></li>\n",
            "<li class=\"toctree-l2\"><a class=\"reference internal\" href=\"user/quickstart/#json-response-content\">JSON Response Content</a></li>\n",
            "<li class=\"toctree-l2\"><a class=\"reference internal\" href=\"user/quickstart/#raw-response-content\">Raw Response Content</a></li>\n",
            "<li class=\"toctree-l2\"><a class=\"reference internal\" href=\"user/quickstart/#custom-headers\">Custom Headers</a></li>\n",
            "<li class=\"toctree-l2\"><a class=\"reference internal\" href=\"user/quickstart/#more-complicated-post-requests\">More complicated POST requests</a></li>\n",
            "<li class=\"toctree-l2\"><a class=\"reference internal\" href=\"user/quickstart/#post-a-multipart-encoded-file\">POST a Multipart-Encoded File</a></li>\n",
            "<li class=\"toctree-l2\"><a class=\"reference internal\" href=\"user/quickstart/#response-status-codes\">Response Status Codes</a></li>\n",
            "<li class=\"toctree-l2\"><a class=\"reference internal\" href=\"user/quickstart/#response-headers\">Response Headers</a></li>\n",
            "<li class=\"toctree-l2\"><a class=\"reference internal\" href=\"user/quickstart/#cookies\">Cookies</a></li>\n",
            "<li class=\"toctree-l2\"><a class=\"reference internal\" href=\"user/quickstart/#redirection-and-history\">Redirection and History</a></li>\n",
            "<li class=\"toctree-l2\"><a class=\"reference internal\" href=\"user/quickstart/#timeouts\">Timeouts</a></li>\n",
            "<li class=\"toctree-l2\"><a class=\"reference internal\" href=\"user/quickstart/#errors-and-exceptions\">Errors and Exceptions</a></li>\n",
            "</ul>\n",
            "</li>\n",
            "<li class=\"toctree-l1\"><a class=\"reference internal\" href=\"user/advanced/\">Advanced Usage</a><ul>\n",
            "<li class=\"toctree-l2\"><a class=\"reference internal\" href=\"user/advanced/#session-objects\">Session Objects</a></li>\n",
            "<li class=\"toctree-l2\"><a class=\"reference internal\" href=\"user/advanced/#request-and-response-objects\">Request and Response Objects</a></li>\n",
            "<li class=\"toctree-l2\"><a class=\"reference internal\" href=\"user/advanced/#prepared-requests\">Prepared Requests</a></li>\n",
            "<li class=\"toctree-l2\"><a class=\"reference internal\" href=\"user/advanced/#ssl-cert-verification\">SSL Cert Verification</a></li>\n",
            "<li class=\"toctree-l2\"><a class=\"reference internal\" href=\"user/advanced/#client-side-certificates\">Client Side Certificates</a></li>\n",
            "<li class=\"toctree-l2\"><a class=\"reference internal\" href=\"user/advanced/#ca-certificates\">CA Certificates</a></li>\n",
            "<li class=\"toctree-l2\"><a class=\"reference internal\" href=\"user/advanced/#body-content-workflow\">Body Content Workflow</a></li>\n",
            "<li class=\"toctree-l2\"><a class=\"reference internal\" href=\"user/advanced/#keep-alive\">Keep-Alive</a></li>\n",
            "<li class=\"toctree-l2\"><a class=\"reference internal\" href=\"user/advanced/#streaming-uploads\">Streaming Uploads</a></li>\n",
            "<li class=\"toctree-l2\"><a class=\"reference internal\" href=\"user/advanced/#chunk-encoded-requests\">Chunk-Encoded Requests</a></li>\n",
            "<li class=\"toctree-l2\"><a class=\"reference internal\" href=\"user/advanced/#post-multiple-multipart-encoded-files\">POST Multiple Multipart-Encoded Files</a></li>\n",
            "<li class=\"toctree-l2\"><a class=\"reference internal\" href=\"user/advanced/#event-hooks\">Event Hooks</a></li>\n",
            "<li class=\"toctree-l2\"><a class=\"reference internal\" href=\"user/advanced/#custom-authentication\">Custom Authentication</a></li>\n",
            "<li class=\"toctree-l2\"><a class=\"reference internal\" href=\"user/advanced/#streaming-requests\">Streaming Requests</a></li>\n",
            "<li class=\"toctree-l2\"><a class=\"reference internal\" href=\"user/advanced/#proxies\">Proxies</a></li>\n",
            "<li class=\"toctree-l2\"><a class=\"reference internal\" href=\"user/advanced/#compliance\">Compliance</a></li>\n",
            "<li class=\"toctree-l2\"><a class=\"reference internal\" href=\"user/advanced/#http-verbs\">HTTP Verbs</a></li>\n",
            "<li class=\"toctree-l2\"><a class=\"reference internal\" href=\"user/advanced/#custom-verbs\">Custom Verbs</a></li>\n",
            "<li class=\"toctree-l2\"><a class=\"reference internal\" href=\"user/advanced/#link-headers\">Link Headers</a></li>\n",
            "<li class=\"toctree-l2\"><a class=\"reference internal\" href=\"user/advanced/#transport-adapters\">Transport Adapters</a></li>\n",
            "<li class=\"toctree-l2\"><a class=\"reference internal\" href=\"user/advanced/#blocking-or-non-blocking\">Blocking Or Non-Blocking?</a></li>\n",
            "<li class=\"toctree-l2\"><a class=\"reference internal\" href=\"user/advanced/#header-ordering\">Header Ordering</a></li>\n",
            "<li class=\"toctree-l2\"><a class=\"reference internal\" href=\"user/advanced/#timeouts\">Timeouts</a></li>\n",
            "</ul>\n",
            "</li>\n",
            "<li class=\"toctree-l1\"><a class=\"reference internal\" href=\"user/authentication/\">Authentication</a><ul>\n",
            "<li class=\"toctree-l2\"><a class=\"reference internal\" href=\"user/authentication/#basic-authentication\">Basic Authentication</a></li>\n",
            "<li class=\"toctree-l2\"><a class=\"reference internal\" href=\"user/authentication/#digest-authentication\">Digest Authentication</a></li>\n",
            "<li class=\"toctree-l2\"><a class=\"reference internal\" href=\"user/authentication/#oauth-1-authentication\">OAuth 1 Authentication</a></li>\n",
            "<li class=\"toctree-l2\"><a class=\"reference internal\" href=\"user/authentication/#oauth-2-and-openid-connect-authentication\">OAuth 2 and OpenID Connect Authentication</a></li>\n",
            "<li class=\"toctree-l2\"><a class=\"reference internal\" href=\"user/authentication/#other-authentication\">Other Authentication</a></li>\n",
            "<li class=\"toctree-l2\"><a class=\"reference internal\" href=\"user/authentication/#new-forms-of-authentication\">New Forms of Authentication</a></li>\n",
            "</ul>\n",
            "</li>\n",
            "</ul>\n",
            "</div>\n",
            "</section>\n",
            "<section id=\"the-community-guide\">\n",
            "<h2>The Community Guide<a class=\"headerlink\" href=\"#the-community-guide\" title=\"Link to this heading\">¶</a></h2>\n",
            "<p>This part of the documentation, which is mostly prose, details the\n",
            "Requests ecosystem and community.</p>\n",
            "<div class=\"toctree-wrapper compound\">\n",
            "<ul>\n",
            "<li class=\"toctree-l1\"><a class=\"reference internal\" href=\"community/recommended/\">Recommended Packages and Extensions</a><ul>\n",
            "<li class=\"toctree-l2\"><a class=\"reference internal\" href=\"community/recommended/#certifi-ca-bundle\">Certifi CA Bundle</a></li>\n",
            "<li class=\"toctree-l2\"><a class=\"reference internal\" href=\"community/recommended/#cachecontrol\">CacheControl</a></li>\n",
            "<li class=\"toctree-l2\"><a class=\"reference internal\" href=\"community/recommended/#requests-toolbelt\">Requests-Toolbelt</a></li>\n",
            "<li class=\"toctree-l2\"><a class=\"reference internal\" href=\"community/recommended/#requests-threads\">Requests-Threads</a></li>\n",
            "<li class=\"toctree-l2\"><a class=\"reference internal\" href=\"community/recommended/#requests-oauthlib\">Requests-OAuthlib</a></li>\n",
            "<li class=\"toctree-l2\"><a class=\"reference internal\" href=\"community/recommended/#betamax\">Betamax</a></li>\n",
            "</ul>\n",
            "</li>\n",
            "<li class=\"toctree-l1\"><a class=\"reference internal\" href=\"community/faq/\">Frequently Asked Questions</a><ul>\n",
            "<li class=\"toctree-l2\"><a class=\"reference internal\" href=\"community/faq/#encoded-data\">Encoded Data?</a></li>\n",
            "<li class=\"toctree-l2\"><a class=\"reference internal\" href=\"community/faq/#custom-user-agents\">Custom User-Agents?</a></li>\n",
            "<li class=\"toctree-l2\"><a class=\"reference internal\" href=\"community/faq/#why-not-httplib2\">Why not Httplib2?</a></li>\n",
            "<li class=\"toctree-l2\"><a class=\"reference internal\" href=\"community/faq/#python-3-support\">Python 3 Support?</a></li>\n",
            "<li class=\"toctree-l2\"><a class=\"reference internal\" href=\"community/faq/#python-2-support\">Python 2 Support?</a></li>\n",
            "<li class=\"toctree-l2\"><a class=\"reference internal\" href=\"community/faq/#what-are-hostname-doesn-t-match-errors\">What are “hostname doesn’t match” errors?</a></li>\n",
            "</ul>\n",
            "</li>\n",
            "<li class=\"toctree-l1\"><a class=\"reference internal\" href=\"community/out-there/\">Integrations</a></li>\n",
            "<li class=\"toctree-l1\"><a class=\"reference internal\" href=\"community/out-there/#articles-talks\">Articles &amp; Talks</a></li>\n",
            "<li class=\"toctree-l1\"><a class=\"reference internal\" href=\"community/support/\">Support</a><ul>\n",
            "<li class=\"toctree-l2\"><a class=\"reference internal\" href=\"community/support/#stack-overflow\">Stack Overflow</a></li>\n",
            "<li class=\"toctree-l2\"><a class=\"reference internal\" href=\"community/support/#file-an-issue\">File an Issue</a></li>\n",
            "<li class=\"toctree-l2\"><a class=\"reference internal\" href=\"community/support/#send-a-tweet\">Send a Tweet</a></li>\n",
            "</ul>\n",
            "</li>\n",
            "<li class=\"toctree-l1\"><a class=\"reference internal\" href=\"community/vulnerabilities/\">Vulnerability Disclosure</a></li>\n",
            "<li class=\"toctree-l1\"><a class=\"reference internal\" href=\"community/release-process/\">Release Process and Rules</a><ul>\n",
            "<li class=\"toctree-l2\"><a class=\"reference internal\" href=\"community/release-process/#major-releases\">Major Releases</a></li>\n",
            "<li class=\"toctree-l2\"><a class=\"reference internal\" href=\"community/release-process/#minor-releases\">Minor Releases</a></li>\n",
            "<li class=\"toctree-l2\"><a class=\"reference internal\" href=\"community/release-process/#hotfix-releases\">Hotfix Releases</a></li>\n",
            "<li class=\"toctree-l2\"><a class=\"reference internal\" href=\"community/release-process/#reasoning\">Reasoning</a></li>\n",
            "</ul>\n",
            "</li>\n",
            "</ul>\n",
            "</div>\n",
            "<div class=\"toctree-wrapper compound\">\n",
            "<ul>\n",
            "<li class=\"toctree-l1\"><a class=\"reference internal\" href=\"community/updates/\">Community Updates</a></li>\n",
            "<li class=\"toctree-l1\"><a class=\"reference internal\" href=\"community/updates/#release-history\">Release History</a></li>\n",
            "</ul>\n",
            "</div>\n",
            "</section>\n",
            "<section id=\"the-api-documentation-guide\">\n",
            "<h2>The API Documentation / Guide<a class=\"headerlink\" href=\"#the-api-documentation-guide\" title=\"Link to this heading\">¶</a></h2>\n",
            "<p>If you are looking for information on a specific function, class, or method,\n",
            "this part of the documentation is for you.</p>\n",
            "<div class=\"toctree-wrapper compound\">\n",
            "<ul>\n",
            "<li class=\"toctree-l1\"><a class=\"reference internal\" href=\"api/\">Developer Interface</a><ul>\n",
            "<li class=\"toctree-l2\"><a class=\"reference internal\" href=\"api/#main-interface\">Main Interface</a></li>\n",
            "<li class=\"toctree-l2\"><a class=\"reference internal\" href=\"api/#exceptions\">Exceptions</a></li>\n",
            "<li class=\"toctree-l2\"><a class=\"reference internal\" href=\"api/#request-sessions\">Request Sessions</a></li>\n",
            "<li class=\"toctree-l2\"><a class=\"reference internal\" href=\"api/#lower-level-classes\">Lower-Level Classes</a></li>\n",
            "<li class=\"toctree-l2\"><a class=\"reference internal\" href=\"api/#lower-lower-level-classes\">Lower-Lower-Level Classes</a></li>\n",
            "<li class=\"toctree-l2\"><a class=\"reference internal\" href=\"api/#authentication\">Authentication</a></li>\n",
            "<li class=\"toctree-l2\"><a class=\"reference internal\" href=\"api/#encodings\">Encodings</a></li>\n",
            "<li class=\"toctree-l2\"><a class=\"reference internal\" href=\"api/#cookies\">Cookies</a></li>\n",
            "<li class=\"toctree-l2\"><a class=\"reference internal\" href=\"api/#status-code-lookup\">Status Code Lookup</a></li>\n",
            "<li class=\"toctree-l2\"><a class=\"reference internal\" href=\"api/#migrating-to-1-x\">Migrating to 1.x</a></li>\n",
            "<li class=\"toctree-l2\"><a class=\"reference internal\" href=\"api/#migrating-to-2-x\">Migrating to 2.x</a></li>\n",
            "</ul>\n",
            "</li>\n",
            "</ul>\n",
            "</div>\n",
            "</section>\n",
            "<section id=\"the-contributor-guide\">\n",
            "<h2>The Contributor Guide<a class=\"headerlink\" href=\"#the-contributor-guide\" title=\"Link to this heading\">¶</a></h2>\n",
            "<p>If you want to contribute to the project, this part of the documentation is for\n",
            "you.</p>\n",
            "<div class=\"toctree-wrapper compound\">\n",
            "<ul>\n",
            "<li class=\"toctree-l1\"><a class=\"reference internal\" href=\"dev/contributing/\">Contributor’s Guide</a><ul>\n",
            "<li class=\"toctree-l2\"><a class=\"reference internal\" href=\"dev/contributing/#code-of-conduct\">Code of Conduct</a></li>\n",
            "<li class=\"toctree-l2\"><a class=\"reference internal\" href=\"dev/contributing/#get-early-feedback\">Get Early Feedback</a></li>\n",
            "<li class=\"toctree-l2\"><a class=\"reference internal\" href=\"dev/contributing/#contribution-suitability\">Contribution Suitability</a></li>\n",
            "<li class=\"toctree-l2\"><a class=\"reference internal\" href=\"dev/contributing/#code-contributions\">Code Contributions</a><ul>\n",
            "<li class=\"toctree-l3\"><a class=\"reference internal\" href=\"dev/contributing/#steps-for-submitting-code\">Steps for Submitting Code</a></li>\n",
            "<li class=\"toctree-l3\"><a class=\"reference internal\" href=\"dev/contributing/#code-review\">Code Review</a></li>\n",
            "<li class=\"toctree-l3\"><a class=\"reference internal\" href=\"dev/contributing/#code-style\">Code Style</a></li>\n",
            "<li class=\"toctree-l3\"><a class=\"reference internal\" href=\"dev/contributing/#new-contributors\">New Contributors</a></li>\n",
            "</ul>\n",
            "</li>\n",
            "<li class=\"toctree-l2\"><a class=\"reference internal\" href=\"dev/contributing/#documentation-contributions\">Documentation Contributions</a></li>\n",
            "<li class=\"toctree-l2\"><a class=\"reference internal\" href=\"dev/contributing/#bug-reports\">Bug Reports</a></li>\n",
            "<li class=\"toctree-l2\"><a class=\"reference internal\" href=\"dev/contributing/#feature-requests\">Feature Requests</a></li>\n",
            "</ul>\n",
            "</li>\n",
            "<li class=\"toctree-l1\"><a class=\"reference internal\" href=\"dev/authors/\">Authors</a><ul>\n",
            "<li class=\"toctree-l2\"><a class=\"reference internal\" href=\"dev/authors/#keepers-of-the-crystals\">Keepers of the Crystals</a></li>\n",
            "<li class=\"toctree-l2\"><a class=\"reference internal\" href=\"dev/authors/#previous-keepers-of-crystals\">Previous Keepers of Crystals</a></li>\n",
            "<li class=\"toctree-l2\"><a class=\"reference internal\" href=\"dev/authors/#patches-and-suggestions\">Patches and Suggestions</a></li>\n",
            "</ul>\n",
            "</li>\n",
            "</ul>\n",
            "</div>\n",
            "<p>There are no more guides. You are now guideless.\n",
            "Good luck.</p>\n",
            "</section>\n",
            "</section>\n",
            "\n",
            "\n",
            "          </div>\n",
            "          \n",
            "        </div>\n",
            "      </div>\n",
            "      <div class=\"sphinxsidebar\" role=\"navigation\" aria-label=\"main navigation\">\n",
            "        <div class=\"sphinxsidebarwrapper\"><p class=\"logo\">\n",
            "  <a href=\"#\">\n",
            "    <img class=\"logo\" src=\"_static/requests-sidebar.png\" alt=\"Requests logo\" />\n",
            "  </a>\n",
            "</p>\n",
            "\n",
            "<p>\n",
            "  <iframe src=\"https://ghbtns.com/github-btn.html?user=psf&repo=requests&type=watch&count=true&size=large\"\n",
            "    allowtransparency=\"true\" frameborder=\"0\" scrolling=\"0\" width=\"200px\" height=\"35px\"></iframe>\n",
            "</p>\n",
            "\n",
            "<p>\n",
            "  Requests is an elegant and simple HTTP library for Python, built for\n",
            "  human beings.\n",
            "</p>\n",
            "\n",
            "<h3>Useful Links</h3>\n",
            "<ul>\n",
            "  <li><a href=\"user/quickstart/\">Quickstart</a></li>\n",
            "  <li><a href=\"user/advanced/\">Advanced Usage</a></li>\n",
            "  <li><a href=\"api/\">API Reference</a></li>\n",
            "  <li><a href=\"community/updates/#release-history\">Release History</a></li>\n",
            "  <li><a href=\"dev/contributing/\">Contributors Guide</a></li>\n",
            "\n",
            "  <p></p>\n",
            "\n",
            "  <li><a href=\"community/recommended/\">Recommended Packages and Extensions</a></li>\n",
            "\n",
            "  <p></p>\n",
            "\n",
            "  <li><a href=\"https://github.com/psf/requests\">Requests @ GitHub</a></li>\n",
            "  <li><a href=\"https://pypi.org/project/requests/\">Requests @ PyPI</a></li>\n",
            "  <li><a href=\"https://github.com/psf/requests/issues\">Issue Tracker</a></li>\n",
            "</ul>\n",
            "\n",
            "<div id=\"native-ribbon\">\n",
            "</div>\n",
            "<div id=\"searchbox\" style=\"display: none\" role=\"search\">\n",
            "  <h3 id=\"searchlabel\">Quick search</h3>\n",
            "    <div class=\"searchformwrapper\">\n",
            "    <form class=\"search\" action=\"search/\" method=\"get\">\n",
            "      <input type=\"text\" name=\"q\" aria-labelledby=\"searchlabel\" autocomplete=\"off\" autocorrect=\"off\" autocapitalize=\"off\" spellcheck=\"false\"/>\n",
            "      <input type=\"submit\" value=\"Go\" />\n",
            "    </form>\n",
            "    </div>\n",
            "</div>\n",
            "<script>document.getElementById('searchbox').style.display = \"block\"</script><!-- Alabaster (krTheme++) Hacks -->\n",
            "\n",
            "<!-- CSS Adjustments (I'm very picky.) -->\n",
            "<style type=\"text/css\">\n",
            "\n",
            "  /* Rezzy requires precise alignment. */\n",
            "  img.logo {margin-left: -20px!important;}\n",
            "\n",
            "  /* \"Quick Search\" should be capitalized. */\n",
            "  div#searchbox h3 {text-transform: capitalize;}\n",
            "\n",
            "  /* Make the document a little wider, less code is cut-off. */\n",
            "  div.document {width: 1008px;}\n",
            "\n",
            "  /* Much-improved spacing around code blocks. */\n",
            "  div.highlight pre {padding: 11px 14px;}\n",
            "\n",
            "  /* Remain Responsive! */\n",
            "  @media screen and (max-width: 1008px) {\n",
            "    div.sphinxsidebar {display: none;}\n",
            "    div.document {width: 100%!important;}\n",
            "\n",
            "    /* Have code blocks escape the document right-margin. */\n",
            "    div.highlight pre {margin-right: -30px;}\n",
            "  }\n",
            "</style>\n",
            "\n",
            "<!-- Native CPC by BuySellAds -->\n",
            "\n",
            "<script type=\"text/javascript\" src=\"//m.servedby-buysellads.com/monetization.js\"></script>\n",
            "\n",
            "<div id=\"native-ribbon\">\n",
            "</div>\n",
            "\n",
            "<script>\n",
            "_bsa.init('custom', 'CK7D62JU', 'placement:pythonrequestsorg',\n",
            "    {\n",
            "      target: '#native-ribbon',\n",
            "      template: `\n",
            "<div class=\"native-sponsor\">Sponsored by ##company## — Learn More</div>\n",
            "  <a href=\"##link##\" class=\"native-flex\">\n",
            "    <style>\n",
            "    #native-ribbon #_custom_ {\n",
            "      background: linear-gradient(-30deg, ##backgroundColor##E5, ##backgroundColor##E5 45%, ##backgroundColor## 45%) #fff;\n",
            "    }\n",
            "\n",
            "    .native-details,\n",
            "    .native-sponsor,\n",
            "    .native-bsa {\n",
            "      color: ##textColor## !important;\n",
            "    }\n",
            "\n",
            "    .native-details:hover {\n",
            "      color: ##textColorHover## !important;\n",
            "    }\n",
            "\n",
            "    .native-cta {\n",
            "      color: ##ctaTextColor##;\n",
            "      background-color: ##ctaBackgroundColor##;\n",
            "    }\n",
            "\n",
            "    .native-cta:hover {\n",
            "      color: ##ctaTextColorHover##;\n",
            "      background-color: ##ctaBackgroundColorHover##;\n",
            "    }\n",
            "    </style>\n",
            "    <div class=\"native-main\">\n",
            "      <img class=\"native-img\" src=\"##logo##\">\n",
            "      <div class=\"native-details\">\n",
            "        <span class=\"native-company\">##title##</span>\n",
            "        <span class=\"native-desc\">##description##</span>\n",
            "      </div>\n",
            "    </div>\n",
            "    <span class=\"native-cta\">##callToAction##</span>\n",
            "  </a>\n",
            "</div>\n",
            "`\n",
            "    }\n",
            "  );\n",
            "</script>\n",
            "        </div>\n",
            "      </div>\n",
            "      <div class=\"clearer\"></div>\n",
            "    </div>\n",
            "    <div class=\"footer\">\n",
            "      &#169;MMXVIX. A Kenneth Reitz Project.\n",
            "      \n",
            "    </div>\n",
            "\n",
            "    \n",
            "    <a href=\"https://github.com/requests/requests\" class=\"github\">\n",
            "        <img style=\"position: absolute; top: 0; right: 0; border: 0;\" src=\"https://github.blog/wp-content/uploads/2008/12/forkme_right_darkblue_121621.png\" alt=\"Fork me on GitHub\"  class=\"github\"/>\n",
            "    </a>\n",
            "    \n",
            "\n",
            "    \n",
            "  </body>\n",
            "</html>\n"
          ]
        }
      ]
    },
    {
      "cell_type": "markdown",
      "source": [
        "As you can see, there is a limitation of `requests`. As you might be aware of, webpages are in HTML or XML. `requests` download the raw HTML of a webpage which would be messy to deal with. Therefore, we will use `beautifulsoup4` which parses the HTML and extract the information. \\\\\n",
        "You can learn more about it at https://beautiful-soup-4.readthedocs.io/en/latest/"
      ],
      "metadata": {
        "id": "X4LpGQfwye2G"
      }
    },
    {
      "cell_type": "code",
      "source": [
        "from bs4 import BeautifulSoup"
      ],
      "metadata": {
        "id": "rZjGkbJOzh0X"
      },
      "execution_count": 3,
      "outputs": []
    },
    {
      "cell_type": "code",
      "source": [
        "soup = BeautifulSoup(response.text, 'html.parser')\n",
        "print(soup.title.text)"
      ],
      "metadata": {
        "id": "3nYlzb-EzRHz",
        "outputId": "c8892e3a-8096-4955-f65f-265788f1d8de",
        "colab": {
          "base_uri": "https://localhost:8080/"
        }
      },
      "execution_count": 4,
      "outputs": [
        {
          "output_type": "stream",
          "name": "stdout",
          "text": [
            "Requests: HTTP for Humans™ — Requests 2.32.3 documentation\n"
          ]
        }
      ]
    },
    {
      "cell_type": "code",
      "source": [
        "print(soup.get_text())"
      ],
      "metadata": {
        "id": "JUsncu4f0Bpf",
        "outputId": "38be49fd-0017-4ec5-d18c-5cb69d12dd9c",
        "colab": {
          "base_uri": "https://localhost:8080/"
        }
      },
      "execution_count": 5,
      "outputs": [
        {
          "output_type": "stream",
          "name": "stdout",
          "text": [
            "\n",
            "\n",
            "\n",
            "\n",
            "\n",
            "Requests: HTTP for Humans™ — Requests 2.32.3 documentation\n",
            "\n",
            "\n",
            "\n",
            "\n",
            "\n",
            "\n",
            "\n",
            "\n",
            "\n",
            "\n",
            "\n",
            "\n",
            "\n",
            "\n",
            "\n",
            "Requests: HTTP for Humans™¶\n",
            "Release v2.32.3. (Installation)\n",
            "\n",
            "\n",
            "\n",
            "\n",
            "Requests is an elegant and simple HTTP library for Python, built for human beings.\n",
            "\n",
            "Behold, the power of Requests:\n",
            ">>> r = requests.get('https://api.github.com/user', auth=('user', 'pass'))\n",
            ">>> r.status_code\n",
            "200\n",
            ">>> r.headers['content-type']\n",
            "'application/json; charset=utf8'\n",
            ">>> r.encoding\n",
            "'utf-8'\n",
            ">>> r.text\n",
            "'{\"type\":\"User\"...'\n",
            ">>> r.json()\n",
            "{'private_gists': 419, 'total_private_repos': 77, ...}\n",
            "\n",
            "\n",
            "See similar code, sans Requests.\n",
            "Requests allows you to send HTTP/1.1 requests extremely easily.\n",
            "There’s no need to manually add query strings to your\n",
            "URLs, or to form-encode your POST data. Keep-alive and HTTP connection pooling\n",
            "are 100% automatic, thanks to urllib3.\n",
            "\n",
            "Beloved Features¶\n",
            "Requests is ready for today’s web.\n",
            "\n",
            "Keep-Alive & Connection Pooling\n",
            "International Domains and URLs\n",
            "Sessions with Cookie Persistence\n",
            "Browser-style SSL Verification\n",
            "Automatic Content Decoding\n",
            "Basic/Digest Authentication\n",
            "Elegant Key/Value Cookies\n",
            "Automatic Decompression\n",
            "Unicode Response Bodies\n",
            "HTTP(S) Proxy Support\n",
            "Multipart File Uploads\n",
            "Streaming Downloads\n",
            "Connection Timeouts\n",
            "Chunked Requests\n",
            ".netrc Support\n",
            "\n",
            "Requests officially supports Python 3.8+, and runs great on PyPy.\n",
            "\n",
            "\n",
            "The User Guide¶\n",
            "This part of the documentation, which is mostly prose, begins with some\n",
            "background information about Requests, then focuses on step-by-step\n",
            "instructions for getting the most out of Requests.\n",
            "\n",
            "\n",
            "Installation of Requests\n",
            "$ python -m pip install requests\n",
            "Get the Source Code\n",
            "\n",
            "\n",
            "Quickstart\n",
            "Make a Request\n",
            "Passing Parameters In URLs\n",
            "Response Content\n",
            "Binary Response Content\n",
            "JSON Response Content\n",
            "Raw Response Content\n",
            "Custom Headers\n",
            "More complicated POST requests\n",
            "POST a Multipart-Encoded File\n",
            "Response Status Codes\n",
            "Response Headers\n",
            "Cookies\n",
            "Redirection and History\n",
            "Timeouts\n",
            "Errors and Exceptions\n",
            "\n",
            "\n",
            "Advanced Usage\n",
            "Session Objects\n",
            "Request and Response Objects\n",
            "Prepared Requests\n",
            "SSL Cert Verification\n",
            "Client Side Certificates\n",
            "CA Certificates\n",
            "Body Content Workflow\n",
            "Keep-Alive\n",
            "Streaming Uploads\n",
            "Chunk-Encoded Requests\n",
            "POST Multiple Multipart-Encoded Files\n",
            "Event Hooks\n",
            "Custom Authentication\n",
            "Streaming Requests\n",
            "Proxies\n",
            "Compliance\n",
            "HTTP Verbs\n",
            "Custom Verbs\n",
            "Link Headers\n",
            "Transport Adapters\n",
            "Blocking Or Non-Blocking?\n",
            "Header Ordering\n",
            "Timeouts\n",
            "\n",
            "\n",
            "Authentication\n",
            "Basic Authentication\n",
            "Digest Authentication\n",
            "OAuth 1 Authentication\n",
            "OAuth 2 and OpenID Connect Authentication\n",
            "Other Authentication\n",
            "New Forms of Authentication\n",
            "\n",
            "\n",
            "\n",
            "\n",
            "\n",
            "\n",
            "The Community Guide¶\n",
            "This part of the documentation, which is mostly prose, details the\n",
            "Requests ecosystem and community.\n",
            "\n",
            "\n",
            "Recommended Packages and Extensions\n",
            "Certifi CA Bundle\n",
            "CacheControl\n",
            "Requests-Toolbelt\n",
            "Requests-Threads\n",
            "Requests-OAuthlib\n",
            "Betamax\n",
            "\n",
            "\n",
            "Frequently Asked Questions\n",
            "Encoded Data?\n",
            "Custom User-Agents?\n",
            "Why not Httplib2?\n",
            "Python 3 Support?\n",
            "Python 2 Support?\n",
            "What are “hostname doesn’t match” errors?\n",
            "\n",
            "\n",
            "Integrations\n",
            "Articles & Talks\n",
            "Support\n",
            "Stack Overflow\n",
            "File an Issue\n",
            "Send a Tweet\n",
            "\n",
            "\n",
            "Vulnerability Disclosure\n",
            "Release Process and Rules\n",
            "Major Releases\n",
            "Minor Releases\n",
            "Hotfix Releases\n",
            "Reasoning\n",
            "\n",
            "\n",
            "\n",
            "\n",
            "\n",
            "\n",
            "Community Updates\n",
            "Release History\n",
            "\n",
            "\n",
            "\n",
            "\n",
            "The API Documentation / Guide¶\n",
            "If you are looking for information on a specific function, class, or method,\n",
            "this part of the documentation is for you.\n",
            "\n",
            "\n",
            "Developer Interface\n",
            "Main Interface\n",
            "Exceptions\n",
            "Request Sessions\n",
            "Lower-Level Classes\n",
            "Lower-Lower-Level Classes\n",
            "Authentication\n",
            "Encodings\n",
            "Cookies\n",
            "Status Code Lookup\n",
            "Migrating to 1.x\n",
            "Migrating to 2.x\n",
            "\n",
            "\n",
            "\n",
            "\n",
            "\n",
            "\n",
            "The Contributor Guide¶\n",
            "If you want to contribute to the project, this part of the documentation is for\n",
            "you.\n",
            "\n",
            "\n",
            "Contributor’s Guide\n",
            "Code of Conduct\n",
            "Get Early Feedback\n",
            "Contribution Suitability\n",
            "Code Contributions\n",
            "Steps for Submitting Code\n",
            "Code Review\n",
            "Code Style\n",
            "New Contributors\n",
            "\n",
            "\n",
            "Documentation Contributions\n",
            "Bug Reports\n",
            "Feature Requests\n",
            "\n",
            "\n",
            "Authors\n",
            "Keepers of the Crystals\n",
            "Previous Keepers of Crystals\n",
            "Patches and Suggestions\n",
            "\n",
            "\n",
            "\n",
            "\n",
            "There are no more guides. You are now guideless.\n",
            "Good luck.\n",
            "\n",
            "\n",
            "\n",
            "\n",
            "\n",
            "\n",
            "\n",
            "\n",
            "\n",
            "\n",
            "\n",
            "\n",
            "\n",
            "\n",
            "\n",
            "  Requests is an elegant and simple HTTP library for Python, built for\n",
            "  human beings.\n",
            "\n",
            "Useful Links\n",
            "\n",
            "Quickstart\n",
            "Advanced Usage\n",
            "API Reference\n",
            "Release History\n",
            "Contributors Guide\n",
            "\n",
            "Recommended Packages and Extensions\n",
            "\n",
            "Requests @ GitHub\n",
            "Requests @ PyPI\n",
            "Issue Tracker\n",
            "\n",
            "\n",
            "\n",
            "\n",
            "Quick search\n",
            "\n",
            "\n",
            "\n",
            "\n",
            "\n",
            "\n",
            "\n",
            "\n",
            "\n",
            "\n",
            "\n",
            "\n",
            "\n",
            "\n",
            "\n",
            "\n",
            "\n",
            "\n",
            "\n",
            "\n",
            "      ©MMXVIX. A Kenneth Reitz Project.\n",
            "      \n",
            "    \n",
            "\n",
            "\n",
            "\n",
            "\n",
            "\n"
          ]
        }
      ]
    },
    {
      "cell_type": "markdown",
      "source": [
        "# Section 2: Setting up AI (I am using cohere as it is free)"
      ],
      "metadata": {
        "id": "5vj4Us8cIDUe"
      }
    },
    {
      "cell_type": "markdown",
      "source": [
        "If you have followed `README`, your API is stored in Google Drive. Therefore, we first connect Google Drive to the Colab server running this notebook, i.e. mount Google Drive.\n",
        "\n"
      ],
      "metadata": {
        "id": "ihD8l5w9MON2"
      }
    },
    {
      "cell_type": "code",
      "source": [
        "from google.colab import drive\n",
        "drive.mount('/content/drive')"
      ],
      "metadata": {
        "id": "mMdbbAEZMM81",
        "outputId": "9cdd409a-a7bc-4ef0-f82e-95e17dc4dbe5",
        "colab": {
          "base_uri": "https://localhost:8080/"
        }
      },
      "execution_count": 6,
      "outputs": [
        {
          "output_type": "stream",
          "name": "stdout",
          "text": [
            "Mounted at /content/drive\n"
          ]
        }
      ]
    },
    {
      "cell_type": "markdown",
      "source": [
        "We saved API in a `.env` file. We would use `dotenv` to load it.\n",
        "\n",
        "You can learn more about it at https://github.com/motdotla/dotenv/blob/master/README.md"
      ],
      "metadata": {
        "id": "1ZsijGteT1bX"
      }
    },
    {
      "cell_type": "code",
      "source": [
        "%pip install -q python-dotenv\n",
        "from dotenv import load_dotenv"
      ],
      "metadata": {
        "id": "VWuZQKaHTsKZ"
      },
      "execution_count": 7,
      "outputs": []
    },
    {
      "cell_type": "code",
      "source": [
        "env_path = \"/content/drive/My Drive/.env\"\n",
        "load_dotenv(env_path)"
      ],
      "metadata": {
        "id": "ecWEHO6xXMBq",
        "outputId": "437ab54d-817b-4e17-f553-838477d171a3",
        "colab": {
          "base_uri": "https://localhost:8080/"
        }
      },
      "execution_count": 8,
      "outputs": [
        {
          "output_type": "execute_result",
          "data": {
            "text/plain": [
              "True"
            ]
          },
          "metadata": {},
          "execution_count": 8
        }
      ]
    },
    {
      "cell_type": "markdown",
      "source": [
        "`cohere` is a Python package that handles authentication (via your API key), sending prompts to cohere models and receiving responses.\n",
        "\n",
        "\n",
        "\n",
        "\n"
      ],
      "metadata": {
        "id": "nojiTdRSYhum"
      }
    },
    {
      "cell_type": "code",
      "source": [
        "pip install cohere"
      ],
      "metadata": {
        "id": "cRQ1aZA8d1PG",
        "outputId": "394a382c-fd07-44dc-d5cd-221b965f3595",
        "colab": {
          "base_uri": "https://localhost:8080/"
        }
      },
      "execution_count": 10,
      "outputs": [
        {
          "output_type": "stream",
          "name": "stdout",
          "text": [
            "Collecting cohere\n",
            "  Downloading cohere-5.15.0-py3-none-any.whl.metadata (3.4 kB)\n",
            "Collecting fastavro<2.0.0,>=1.9.4 (from cohere)\n",
            "  Downloading fastavro-1.11.1-cp311-cp311-manylinux_2_17_x86_64.manylinux2014_x86_64.whl.metadata (5.7 kB)\n",
            "Requirement already satisfied: httpx>=0.21.2 in /usr/local/lib/python3.11/dist-packages (from cohere) (0.28.1)\n",
            "Collecting httpx-sse==0.4.0 (from cohere)\n",
            "  Downloading httpx_sse-0.4.0-py3-none-any.whl.metadata (9.0 kB)\n",
            "Requirement already satisfied: pydantic>=1.9.2 in /usr/local/lib/python3.11/dist-packages (from cohere) (2.11.5)\n",
            "Requirement already satisfied: pydantic-core<3.0.0,>=2.18.2 in /usr/local/lib/python3.11/dist-packages (from cohere) (2.33.2)\n",
            "Requirement already satisfied: requests<3.0.0,>=2.0.0 in /usr/local/lib/python3.11/dist-packages (from cohere) (2.32.3)\n",
            "Requirement already satisfied: tokenizers<1,>=0.15 in /usr/local/lib/python3.11/dist-packages (from cohere) (0.21.1)\n",
            "Collecting types-requests<3.0.0,>=2.0.0 (from cohere)\n",
            "  Downloading types_requests-2.32.0.20250602-py3-none-any.whl.metadata (2.1 kB)\n",
            "Requirement already satisfied: typing_extensions>=4.0.0 in /usr/local/lib/python3.11/dist-packages (from cohere) (4.14.0)\n",
            "Requirement already satisfied: anyio in /usr/local/lib/python3.11/dist-packages (from httpx>=0.21.2->cohere) (4.9.0)\n",
            "Requirement already satisfied: certifi in /usr/local/lib/python3.11/dist-packages (from httpx>=0.21.2->cohere) (2025.4.26)\n",
            "Requirement already satisfied: httpcore==1.* in /usr/local/lib/python3.11/dist-packages (from httpx>=0.21.2->cohere) (1.0.9)\n",
            "Requirement already satisfied: idna in /usr/local/lib/python3.11/dist-packages (from httpx>=0.21.2->cohere) (3.10)\n",
            "Requirement already satisfied: h11>=0.16 in /usr/local/lib/python3.11/dist-packages (from httpcore==1.*->httpx>=0.21.2->cohere) (0.16.0)\n",
            "Requirement already satisfied: annotated-types>=0.6.0 in /usr/local/lib/python3.11/dist-packages (from pydantic>=1.9.2->cohere) (0.7.0)\n",
            "Requirement already satisfied: typing-inspection>=0.4.0 in /usr/local/lib/python3.11/dist-packages (from pydantic>=1.9.2->cohere) (0.4.1)\n",
            "Requirement already satisfied: charset-normalizer<4,>=2 in /usr/local/lib/python3.11/dist-packages (from requests<3.0.0,>=2.0.0->cohere) (3.4.2)\n",
            "Requirement already satisfied: urllib3<3,>=1.21.1 in /usr/local/lib/python3.11/dist-packages (from requests<3.0.0,>=2.0.0->cohere) (2.4.0)\n",
            "Requirement already satisfied: huggingface-hub<1.0,>=0.16.4 in /usr/local/lib/python3.11/dist-packages (from tokenizers<1,>=0.15->cohere) (0.32.4)\n",
            "Requirement already satisfied: filelock in /usr/local/lib/python3.11/dist-packages (from huggingface-hub<1.0,>=0.16.4->tokenizers<1,>=0.15->cohere) (3.18.0)\n",
            "Requirement already satisfied: fsspec>=2023.5.0 in /usr/local/lib/python3.11/dist-packages (from huggingface-hub<1.0,>=0.16.4->tokenizers<1,>=0.15->cohere) (2025.3.2)\n",
            "Requirement already satisfied: packaging>=20.9 in /usr/local/lib/python3.11/dist-packages (from huggingface-hub<1.0,>=0.16.4->tokenizers<1,>=0.15->cohere) (24.2)\n",
            "Requirement already satisfied: pyyaml>=5.1 in /usr/local/lib/python3.11/dist-packages (from huggingface-hub<1.0,>=0.16.4->tokenizers<1,>=0.15->cohere) (6.0.2)\n",
            "Requirement already satisfied: tqdm>=4.42.1 in /usr/local/lib/python3.11/dist-packages (from huggingface-hub<1.0,>=0.16.4->tokenizers<1,>=0.15->cohere) (4.67.1)\n",
            "Requirement already satisfied: hf-xet<2.0.0,>=1.1.2 in /usr/local/lib/python3.11/dist-packages (from huggingface-hub<1.0,>=0.16.4->tokenizers<1,>=0.15->cohere) (1.1.2)\n",
            "Requirement already satisfied: sniffio>=1.1 in /usr/local/lib/python3.11/dist-packages (from anyio->httpx>=0.21.2->cohere) (1.3.1)\n",
            "Downloading cohere-5.15.0-py3-none-any.whl (259 kB)\n",
            "\u001b[2K   \u001b[90m━━━━━━━━━━━━━━━━━━━━━━━━━━━━━━━━━━━━━━━━\u001b[0m \u001b[32m259.5/259.5 kB\u001b[0m \u001b[31m5.2 MB/s\u001b[0m eta \u001b[36m0:00:00\u001b[0m\n",
            "\u001b[?25hDownloading httpx_sse-0.4.0-py3-none-any.whl (7.8 kB)\n",
            "Downloading fastavro-1.11.1-cp311-cp311-manylinux_2_17_x86_64.manylinux2014_x86_64.whl (3.3 MB)\n",
            "\u001b[2K   \u001b[90m━━━━━━━━━━━━━━━━━━━━━━━━━━━━━━━━━━━━━━━━\u001b[0m \u001b[32m3.3/3.3 MB\u001b[0m \u001b[31m50.2 MB/s\u001b[0m eta \u001b[36m0:00:00\u001b[0m\n",
            "\u001b[?25hDownloading types_requests-2.32.0.20250602-py3-none-any.whl (20 kB)\n",
            "Installing collected packages: types-requests, httpx-sse, fastavro, cohere\n",
            "Successfully installed cohere-5.15.0 fastavro-1.11.1 httpx-sse-0.4.0 types-requests-2.32.0.20250602\n"
          ]
        }
      ]
    },
    {
      "cell_type": "code",
      "source": [
        "import os\n",
        "import cohere\n",
        "co = cohere.ClientV2(api_key=os.getenv(\"API_KEY\"))"
      ],
      "metadata": {
        "id": "0eD3MTKQZbDK"
      },
      "execution_count": 12,
      "outputs": []
    },
    {
      "cell_type": "markdown",
      "source": [
        "## Summarization"
      ],
      "metadata": {
        "id": "_V5UjwiKtz3v"
      }
    },
    {
      "cell_type": "code",
      "source": [
        "prompt = f\"Summarize this content from a webpage: {soup.get_text()}\"\n",
        "\n",
        "response = co.generate(\n",
        "    model='command-r-plus',\n",
        "    prompt=prompt\n",
        ")\n",
        "\n",
        "print(response.generations[0].text.strip())"
      ],
      "metadata": {
        "id": "fm6iIMf6IMO6",
        "outputId": "fcb1a940-98b4-4c1d-a3f3-d54a909c5cdc",
        "colab": {
          "base_uri": "https://localhost:8080/"
        }
      },
      "execution_count": 19,
      "outputs": [
        {
          "output_type": "stream",
          "name": "stdout",
          "text": [
            "The webpage content is about Requests, an HTTP library for Python that is designed to be elegant and simple to use. It allows users to send HTTP/1.1 requests easily, with features such as automatic keep-alive and connection pooling. Requests officially support Python 3.8+ and runs well on PyPy. \n",
            "\n",
            "The documentation includes a User Guide, which provides step-by-step instructions on how to use Requests effectively, covering topics such as installation, making requests, handling responses, and advanced usage. The Community Guide details the Requests ecosystem, recommended packages, and extensions, as well as frequently asked questions and community resources. \n",
            "\n",
            "The API Documentation offers detailed information on the functions, classes, and methods available in Requests. The Contributor Guide provides guidelines and instructions for those who want to contribute to the project, including information on the code contribution process, documentation contributions, and bug reports. \n",
            "\n",
            "Useful links are provided for quick access to the Requests project on GitHub, PyPI, and the issue tracker.\n"
          ]
        }
      ]
    },
    {
      "cell_type": "markdown",
      "source": [
        "The summary is too long. We can shorten it by specifying max_tokens."
      ],
      "metadata": {
        "id": "dHS80P5sqd02"
      }
    },
    {
      "cell_type": "code",
      "source": [
        "response = co.generate(\n",
        "    model='command-r-plus',\n",
        "    prompt=prompt,\n",
        "    max_tokens=100,\n",
        ")\n",
        "print(response.generations[0].text.strip())"
      ],
      "metadata": {
        "id": "D-kFTJAEqL4R",
        "outputId": "c6a3d33a-b1a8-419e-f82d-30b1f9a6a094",
        "colab": {
          "base_uri": "https://localhost:8080/"
        }
      },
      "execution_count": 20,
      "outputs": [
        {
          "output_type": "stream",
          "name": "stdout",
          "text": [
            "The webpage content is about Requests, an HTTP library for Python that is designed to be elegant and simple to use. Requests allow users to send HTTP/1.1 requests easily, with features such as automatic keep-alive and connection pooling. It supports Python 3.8+ and PyPy, and offers a range of features for handling HTTP requests and responses, including session objects, custom headers, and authentication methods. The documentation includes a user guide, community guide, API reference, and contributor guide\n"
          ]
        }
      ]
    },
    {
      "cell_type": "markdown",
      "source": [
        "## Text Generation"
      ],
      "metadata": {
        "id": "NC1OtwY-t74j"
      }
    },
    {
      "cell_type": "code",
      "source": [
        "prompt = f\"Give 3 example use for Requests\"\n",
        "response = co.generate(\n",
        "    model='command-r-plus',\n",
        "    prompt=prompt,\n",
        "    max_tokens=100,\n",
        ")\n",
        "\n",
        "print(response.generations[0].text.strip())"
      ],
      "metadata": {
        "id": "daTPBaRjrPNG",
        "outputId": "f0ff5857-e991-41a3-ee42-03320b202aa4",
        "colab": {
          "base_uri": "https://localhost:8080/"
        }
      },
      "execution_count": 22,
      "outputs": [
        {
          "output_type": "stream",
          "name": "stdout",
          "text": [
            "Requests is a versatile Python library used for making HTTP requests. Here are three common use cases for the Requests library:\n",
            "1. Web Scraping: Requests is widely used for web scraping, which involves extracting data from websites. It allows you to send HTTP requests to websites, parse the response content (usually HTML), and extract the desired information. This can be useful for gathering data from websites that don't provide APIs.\n",
            "2. Consuming Web APIs: Many web services and applications provide APIs (\n"
          ]
        }
      ]
    },
    {
      "cell_type": "code",
      "source": [
        "prompt = f\"Give 3 example use for Requests\"\n",
        "response = co.generate(\n",
        "    model='command-r-plus',\n",
        "    prompt=prompt,\n",
        "    max_tokens=200,\n",
        ")\n",
        "\n",
        "print(response.generations[0].text.strip())"
      ],
      "metadata": {
        "id": "Uvm8S907sDTx",
        "outputId": "7aa53bed-4bdf-4597-bcda-82b4247319e6",
        "colab": {
          "base_uri": "https://localhost:8080/"
        }
      },
      "execution_count": 23,
      "outputs": [
        {
          "output_type": "stream",
          "name": "stdout",
          "text": [
            "Requests is a popular Python library used for making HTTP requests. Here are three common use cases for the Requests library:\n",
            "1. Web Scraping: Requests is often used in web scraping projects to fetch data from websites. It allows you to send HTTP GET requests to websites, parse the HTML content, and extract the required information. For example, you can use Requests to scrape data from a news website, an e-commerce site, or a social media platform.\n",
            "2. API Consumption: Many applications and services provide APIs (Application Programming Interfaces) that allow developers to interact with their data and services programmatically. Requests makes it easy to send HTTP requests to these APIs, whether it's retrieving data, posting new data, or using more advanced API features. For instance, you can use Requests to consume a weather API, a social media API, or a data retrieval API.\n",
            "3. Data Fetching: Requests is useful for fetching data from various sources on the web. It can be used to\n"
          ]
        }
      ]
    },
    {
      "cell_type": "code",
      "source": [
        "prompt = f\"Give 3 example use for Requests\"\n",
        "response = co.generate(\n",
        "    model='command-r-plus',\n",
        "    prompt=prompt,\n",
        "    max_tokens=300,\n",
        ")\n",
        "\n",
        "print(response.generations[0].text.strip())"
      ],
      "metadata": {
        "id": "tiXtNzBZsLq8",
        "outputId": "b7a52feb-1931-4a81-8f21-7dbda03f7181",
        "colab": {
          "base_uri": "https://localhost:8080/"
        }
      },
      "execution_count": 24,
      "outputs": [
        {
          "output_type": "stream",
          "name": "stdout",
          "text": [
            "Here are 3 example uses for the Python Requests library:\n",
            "1. **Web Scraping**: Requests can be used to fetch web pages for web scraping purposes. It allows you to download HTML content from websites and then parse it to extract data. For example, you could use it to scrape product information from an online store or news articles from a news website.\n",
            "2. **API Interaction**: Many web services provide APIs (Application Programming Interfaces) that allow developers to interact with their services programmatically. Requests makes it easy to send HTTP requests to these APIs, whether it's to retrieve data, post new data, or perform other actions. For example, you could use Requests to post a tweet to Twitter or retrieve data from the GitHub API.\n",
            "3. **Data Retrieval**: Requests can be used to retrieve data from the web in a variety of formats, including JSON, XML, or plain text. For example, you could use it to retrieve weather data from a weather API, stock prices from a financial website, or traffic data from a transportation API.\n",
            "\n",
            "These are just a few examples of how the Requests library can be used. Its simplicity and flexibility make it a powerful tool for working with HTTP in Python.\n"
          ]
        }
      ]
    },
    {
      "cell_type": "code",
      "source": [
        "prompt = f\"Give 3 example use for Requests\"\n",
        "response = co.generate(\n",
        "    model='command-r-plus',\n",
        "    prompt=prompt,\n",
        ")\n",
        "\n",
        "print(response.generations[0].text.strip())"
      ],
      "metadata": {
        "id": "YR3ni-GZsSzI",
        "outputId": "e55680c2-bfe7-471e-a24a-6539f1f6e483",
        "colab": {
          "base_uri": "https://localhost:8080/"
        }
      },
      "execution_count": 25,
      "outputs": [
        {
          "output_type": "stream",
          "name": "stdout",
          "text": [
            "1. Web Scraping: Requests can be used to fetch web pages and extract data from them, allowing you to scrape information from websites for data analysis, price monitoring, or research purposes.\n",
            "2. API Interactions: Many web services provide APIs (Application Programming Interfaces) that allow you to retrieve or modify data. Requests makes it easy to send HTTP requests to these APIs, enabling you to integrate external data or functionality into your Python applications.\n",
            "3. Data Retrieval: If you need to retrieve data from a web server, Requests can help you fetch JSON, XML, or other types of data from a remote server for processing or storage in your Python application. This is useful for tasks like data aggregation, building dashboards, or populating databases.\n"
          ]
        }
      ]
    },
    {
      "cell_type": "markdown",
      "source": [
        "## Classification"
      ],
      "metadata": {
        "id": "eBl7WwxRuMV5"
      }
    },
    {
      "cell_type": "code",
      "source": [
        "url = 'https://docs.python-requests.org/en/latest/community/updates/#release-history'\n",
        "response = requests.get(url)\n",
        "soup = BeautifulSoup(response.text, 'html.parser')\n",
        "print(soup.title.text)"
      ],
      "metadata": {
        "id": "Qx8LDHrDtSP7",
        "outputId": "a533ac05-de2a-4315-9925-2559af598985",
        "colab": {
          "base_uri": "https://localhost:8080/"
        }
      },
      "execution_count": 35,
      "outputs": [
        {
          "output_type": "stream",
          "name": "stdout",
          "text": [
            "Community Updates — Requests 2.32.3 documentation\n"
          ]
        }
      ]
    },
    {
      "cell_type": "code",
      "source": [
        "prompt = f\"Classify each release in this webpage as major or minor - {soup.get_text()}\"\n",
        "\n",
        "response = co.generate(\n",
        "    model='command-r-plus',\n",
        "    prompt=prompt,\n",
        ")\n",
        "\n",
        "print(response.generations[0].text.strip())"
      ],
      "metadata": {
        "id": "EwjU03XEuwlP",
        "outputId": "0dcf6346-ecaf-49c6-8653-87ad07f03ec4",
        "colab": {
          "base_uri": "https://localhost:8080/"
        }
      },
      "execution_count": 37,
      "outputs": [
        {
          "output_type": "stream",
          "name": "stdout",
          "text": [
            "Major releases: 2.32.0, 2.31.0, 2.30.0, 2.28.0, 2.27.0, 2.26.0, 2.25.0, 2.24.0, 2.23.0, 2.22.0, 2.21.0, 2.20.0, 2.19.0, 2.18.0, 2.17.0, 2.16.0, 2.15.0, 2.14.0, 2.13.0, 2.12.0, 2.11.0, 2.10.0, 2.9.0, 2.8.0, 2.7.0, 2.6.0, 2.5.0, 2.4.0, 2.3.0, 2.2.0, 2.1.0, 2.0.0, 1.2.0, 1.1.0, 1.0.0, 0.14.0, 0.13.0, 0.12.0, 0.11.0, 0.10.0, 0.9.0, 0.8.0, 0.7.0, 0.6.0, 0.5.0, 0.4.0, 0.3.0, 0.2.0, 0.0.1.\n",
            "Minor releases: 2.32.3, 2.32.2, 2.32.1, 2.31.0, 2.29.0, 2.28.2, 2.28.1, 2.27.1, 2.25.1, 2.25.0, 2.24.0, 2.23.0, 2.21.0, 2.20.1, 2.19.1, 2.18.4, 2.18.3, 2.18.2, 2.18.1, 2.16.5, 2.16.4, 2.16.3, 2.16.2, 2.16.1, 2.15.1, 2.14.2, 2.14.1, 2.12.5, 2.12.4, 2.12.3, 2.12.2, 2.12.1, 2.11.1, 2.9.2, 2.9.1, 2.8.1, 2.6.2, 2.6.1, 2.5.3, 2.5.2, 2.5.1, 2.4.3, 2.4.2, 2.4.1, 2.2.1, 2.1.0, 2.0.1, 1.2.3, 1.2.2, 1.2.1, 1.0.3, 1.0.2, 1.0.1, 0.14.2, 0.14.1, 0.13.9, 0.13.8, 0.13.7, 0.13.6, 0.13.5, 0.13.4, 0.13.3, 0.13.2, 0.13.1, 0.12.1, 0.11.2, 0.11.1, 0.10.8, 0.10.7, 0.10.6, 0.10.5, 0.10.4, 0.10.3, 0.10.2, 0.9.3, 0.9.2, 0.8.9, 0.8.8, 0.8.7, 0.8.6, 0.8.5, 0.8.4, 0.8.3, 0.8.2, 0.8.1, 0.7.6, 0.7.5, 0.7.4, 0.7.3, 0.7.2, 0.7.1, 0.6.6, 0.6.5, 0.6.4, 0.6.3, 0.6.2, 0.6.1, 0.5.1, 0.4.1, 0.3.4, 0.3.3, 0.3.2, 0.3.1\n"
          ]
        }
      ]
    }
  ]
}